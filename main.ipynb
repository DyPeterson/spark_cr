{
 "cells": [
  {
   "cell_type": "code",
   "execution_count": 1,
   "metadata": {},
   "outputs": [
    {
     "name": "stderr",
     "output_type": "stream",
     "text": [
      "22/06/24 09:26:08 WARN Utils: Your hostname, DESKTOP-8ASBMTF resolves to a loopback address: 127.0.1.1; using 172.20.184.225 instead (on interface eth0)\n",
      "22/06/24 09:26:08 WARN Utils: Set SPARK_LOCAL_IP if you need to bind to another address\n",
      "WARNING: An illegal reflective access operation has occurred\n",
      "WARNING: Illegal reflective access by org.apache.spark.unsafe.Platform (file:/root/spark_cr/venv/lib/python3.7/site-packages/pyspark/jars/spark-unsafe_2.12-3.1.2.jar) to constructor java.nio.DirectByteBuffer(long,int)\n",
      "WARNING: Please consider reporting this to the maintainers of org.apache.spark.unsafe.Platform\n",
      "WARNING: Use --illegal-access=warn to enable warnings of further illegal reflective access operations\n",
      "WARNING: All illegal access operations will be denied in a future release\n",
      "22/06/24 09:26:10 WARN NativeCodeLoader: Unable to load native-hadoop library for your platform... using builtin-java classes where applicable\n",
      "Using Spark's default log4j profile: org/apache/spark/log4j-defaults.properties\n",
      "Setting default log level to \"WARN\".\n",
      "To adjust logging level use sc.setLogLevel(newLevel). For SparkR, use setLogLevel(newLevel).\n"
     ]
    }
   ],
   "source": [
    "from pyspark.sql import SparkSession\n",
    "\n",
    "spark = SparkSession.builder.master('local').getOrCreate()\n"
   ]
  },
  {
   "cell_type": "code",
   "execution_count": 2,
   "metadata": {},
   "outputs": [],
   "source": [
    "spark_df = (spark.read.format(\"csv\").options(header=\"true\").load(\"./data/spotify_artists.csv\"))"
   ]
  },
  {
   "cell_type": "markdown",
   "metadata": {},
   "source": [
    "## Profiling the Data:"
   ]
  },
  {
   "cell_type": "code",
   "execution_count": 5,
   "metadata": {},
   "outputs": [
    {
     "data": {
      "text/plain": [
       "<bound method DataFrame.describe of DataFrame[index: string, artist_popularity: string, followers: string, genres: string, id: string, name: string, track_id: string, track_name_prev: string, type: string]>"
      ]
     },
     "execution_count": 5,
     "metadata": {},
     "output_type": "execute_result"
    }
   ],
   "source": [
    "# Show a description (summary) of the Spark DataFrame.\n",
    "spark_df.describe"
   ]
  },
  {
   "cell_type": "code",
   "execution_count": 24,
   "metadata": {},
   "outputs": [
    {
     "name": "stdout",
     "output_type": "stream",
     "text": [
      "root\n",
      " |-- index: string (nullable = true)\n",
      " |-- artist_popularity: string (nullable = true)\n",
      " |-- followers: string (nullable = true)\n",
      " |-- genres: string (nullable = true)\n",
      " |-- id: string (nullable = true)\n",
      " |-- name: string (nullable = true)\n",
      " |-- track_id: string (nullable = true)\n",
      " |-- track_name_prev: string (nullable = true)\n",
      " |-- type: string (nullable = true)\n",
      "\n"
     ]
    }
   ],
   "source": [
    "# Print the schema of the DataFrame.\n",
    "spark_df.printSchema()"
   ]
  },
  {
   "cell_type": "code",
   "execution_count": 7,
   "metadata": {},
   "outputs": [
    {
     "name": "stdout",
     "output_type": "stream",
     "text": [
      "+--------------------+--------------------+\n",
      "|                name|              genres|\n",
      "+--------------------+--------------------+\n",
      "|       Juliano Cezar|['sertanejo', 'se...|\n",
      "|      The Grenadines|                  []|\n",
      "|             Gangway| ['danish pop rock']|\n",
      "|               FADES|['uk alternative ...|\n",
      "| Jean-Pierre Guignon|  ['french baroque']|\n",
      "|              Filhos|                  []|\n",
      "|                Eloq|                  []|\n",
      "|              Fravær|                  []|\n",
      "|       Camille Pépin|                  []|\n",
      "|Pepe Willberg & T...|['classic finnish...|\n",
      "+--------------------+--------------------+\n",
      "only showing top 10 rows\n",
      "\n"
     ]
    }
   ],
   "source": [
    "# Select and show just the first 10 values in the 'name' and 'genres' columns.\n",
    "spark_df.select(spark_df.name, spark_df.genres).show(10)"
   ]
  },
  {
   "cell_type": "markdown",
   "metadata": {},
   "source": [
    "## Cleaning the Data:"
   ]
  },
  {
   "cell_type": "code",
   "execution_count": 22,
   "metadata": {},
   "outputs": [
    {
     "name": "stderr",
     "output_type": "stream",
     "text": [
      "                                                                                \r"
     ]
    },
    {
     "name": "stdout",
     "output_type": "stream",
     "text": [
      "+-----+-----------------+---------+------+---+----+--------+---------------+----+\n",
      "|index|artist_popularity|followers|genres| id|name|track_id|track_name_prev|type|\n",
      "+-----+-----------------+---------+------+---+----+--------+---------------+----+\n",
      "+-----+-----------------+---------+------+---+----+--------+---------------+----+\n",
      "\n",
      "+-----+-----------------+---------+------------------+--------------------+--------------+--------------------+---------------+------+\n",
      "|index|artist_popularity|followers|            genres|                  id|          name|            track_id|track_name_prev|  type|\n",
      "+-----+-----------------+---------+------------------+--------------------+--------------+--------------------+---------------+------+\n",
      "|    1|               22|      313|['elevator music']|1dLnVku4VQUOLswwD...|The Grenadines|4wqwj0gA8qPZKLl5W...|       track_30|artist|\n",
      "|    5|               43|       81|['elevator music']|38VBjthd0szbS6wpD...|        Filhos|453KeZU566kjNfs1I...|       track_15|artist|\n",
      "|    6|               34|     8358|['elevator music']|36mHwYa65L0WZbAXY...|          Eloq|6hC5Tl0S5aQCw646J...|       track_43|artist|\n",
      "|    7|                7|      158|['elevator music']|1jJyy00XfxjB4tMAv...|        Fravær|5005eeCJ9KTFAAzh2...|       track_48|artist|\n",
      "|    8|               21|       30|['elevator music']|10A8WbBJ0zW8MnvTs...| Camille Pépin|56fBsCXwpBnxe4JkF...|       track_73|artist|\n",
      "+-----+-----------------+---------+------------------+--------------------+--------------+--------------------+---------------+------+\n",
      "only showing top 5 rows\n",
      "\n"
     ]
    }
   ],
   "source": [
    "# Where the genre is an empty list, replace it with ['elevator music']\n",
    "from pyspark.sql.functions import regexp_replace\n",
    "spark_df.where(spark_df.genres == \"[]\").show(5)\n",
    "spark_df = spark_df.withColumn('genres', regexp_replace('genres', r\"\\[\\]\", \"['elevator music']\"))\n",
    "spark_df.where(spark_df.genres == \"['elevator music']\").show(5)\n"
   ]
  },
  {
   "cell_type": "code",
   "execution_count": 29,
   "metadata": {},
   "outputs": [
    {
     "name": "stdout",
     "output_type": "stream",
     "text": [
      "root\n",
      " |-- artist_popularity: integer (nullable = true)\n",
      " |-- followers: integer (nullable = true)\n",
      "\n"
     ]
    }
   ],
   "source": [
    "# For the columns 'artist_popularity' and 'followers', cast the data type as integers.\n",
    "from pyspark.sql.types import IntegerType\n",
    "\n",
    "spark_df = spark_df.withColumn('artist_popularity', spark_df['artist_popularity'].cast(IntegerType()))\n",
    "spark_df = spark_df.withColumn('followers', spark_df['followers'].cast(IntegerType()))\n",
    "spark_df.select('artist_popularity', 'followers').printSchema()"
   ]
  },
  {
   "cell_type": "code",
   "execution_count": 33,
   "metadata": {},
   "outputs": [
    {
     "name": "stdout",
     "output_type": "stream",
     "text": [
      "+-----+-----------------+---------+--------------------+--------------------+-------------+--------------------+---------------+------+\n",
      "|index|artist_popularity|followers|              genres|                  id|         name|            track_id|track_name_prev|  type|\n",
      "+-----+-----------------+---------+--------------------+--------------------+-------------+--------------------+---------------+------+\n",
      "|55251|               92| 41561693|   ['pop', 'uk pop']|6eUKZXaKkcviH0Ku9...|   Ed Sheeran|7qiZfU4dY1lWllzX7...|       track_35|artist|\n",
      "|53392|               98| 34680740|['canadian hip ho...|3TVXtAsR1Inumwj47...|        Drake|116H0KvKr2Zl4RPuV...|       track_71|artist|\n",
      "|52620|               90| 30560149|['dance pop', 'po...|5pKCCKE2ajJHZ9KAi...|      Rihanna|2Ce5IyMlVRVvN997Z...|       track_38|artist|\n",
      "|54447|               88| 26824224|['canadian pop', ...|1uNFoZAHBGtllmzzn...|Justin Bieber|3A7qX2QjDlPnazUsR...|        track_2|artist|\n",
      "|42872|              100| 26309771|['dance pop', 'po...|66CXWjxzNUsdJxJ2J...|Ariana Grande|1w1kzejjmiMhdWAOe...|       track_28|artist|\n",
      "|45173|               93| 25180454|['detroit hip hop...|7dGJo4pcD2V6oG8kP...|       Eminem|3OEer2dQj1eWhSqxa...|       track_49|artist|\n",
      "|56012|               90| 20226989|['dance pop', 'po...|0du5cEVh5yTK9QJze...|   Bruno Mars|0PG9fbaaHFHfre2gU...|       track_67|artist|\n",
      "|54980|               87| 18490021|['permanent wave'...|4gzpq5DPGxSnKTe4S...|     Coldplay|3AJwUDP919kvQ9Qco...|       track_31|artist|\n",
      "|55997|               89| 18008912|['dance pop', 'ed...|1Cs0zKBU1kc0i8ypK...| David Guetta|0YammaEkYSeo9vQYZ...|        track_6|artist|\n",
      "|52563|               86| 17864458|['dance pop', 'po...|6vWDO969PvNqNYHIO...|      Beyoncé|5IVuqXILoxVWvWEPm...|        track_6|artist|\n",
      "+-----+-----------------+---------+--------------------+--------------------+-------------+--------------------+---------------+------+\n",
      "only showing top 10 rows\n",
      "\n"
     ]
    },
    {
     "name": "stderr",
     "output_type": "stream",
     "text": [
      "                                                                                \r"
     ]
    }
   ],
   "source": [
    "# Sort the data in descending order by number of followers.\n",
    "\n",
    "spark_df = spark_df.orderBy('followers', ascending=False)\n",
    "spark_df.show(10)"
   ]
  },
  {
   "cell_type": "code",
   "execution_count": 37,
   "metadata": {},
   "outputs": [
    {
     "name": "stderr",
     "output_type": "stream",
     "text": [
      "[Stage 20:>                                                         (0 + 1) / 1]\r"
     ]
    },
    {
     "name": "stdout",
     "output_type": "stream",
     "text": [
      "+-----+-----------------+---------+--------------------+--------------------+-------------+--------------------+---------------+------+------------------+\n",
      "|index|artist_popularity|followers|              genres|                  id|         name|            track_id|track_name_prev|  type|popularity_percent|\n",
      "+-----+-----------------+---------+--------------------+--------------------+-------------+--------------------+---------------+------+------------------+\n",
      "|55251|               92| 41561693|   ['pop', 'uk pop']|6eUKZXaKkcviH0Ku9...|   Ed Sheeran|7qiZfU4dY1lWllzX7...|       track_35|artist|              0.92|\n",
      "|53392|               98| 34680740|['canadian hip ho...|3TVXtAsR1Inumwj47...|        Drake|116H0KvKr2Zl4RPuV...|       track_71|artist|              0.98|\n",
      "|52620|               90| 30560149|['dance pop', 'po...|5pKCCKE2ajJHZ9KAi...|      Rihanna|2Ce5IyMlVRVvN997Z...|       track_38|artist|               0.9|\n",
      "|54447|               88| 26824224|['canadian pop', ...|1uNFoZAHBGtllmzzn...|Justin Bieber|3A7qX2QjDlPnazUsR...|        track_2|artist|              0.88|\n",
      "|42872|              100| 26309771|['dance pop', 'po...|66CXWjxzNUsdJxJ2J...|Ariana Grande|1w1kzejjmiMhdWAOe...|       track_28|artist|               1.0|\n",
      "|45173|               93| 25180454|['detroit hip hop...|7dGJo4pcD2V6oG8kP...|       Eminem|3OEer2dQj1eWhSqxa...|       track_49|artist|              0.93|\n",
      "|56012|               90| 20226989|['dance pop', 'po...|0du5cEVh5yTK9QJze...|   Bruno Mars|0PG9fbaaHFHfre2gU...|       track_67|artist|               0.9|\n",
      "|54980|               87| 18490021|['permanent wave'...|4gzpq5DPGxSnKTe4S...|     Coldplay|3AJwUDP919kvQ9Qco...|       track_31|artist|              0.87|\n",
      "|55997|               89| 18008912|['dance pop', 'ed...|1Cs0zKBU1kc0i8ypK...| David Guetta|0YammaEkYSeo9vQYZ...|        track_6|artist|              0.89|\n",
      "|52563|               86| 17864458|['dance pop', 'po...|6vWDO969PvNqNYHIO...|      Beyoncé|5IVuqXILoxVWvWEPm...|        track_6|artist|              0.86|\n",
      "+-----+-----------------+---------+--------------------+--------------------+-------------+--------------------+---------------+------+------------------+\n",
      "only showing top 10 rows\n",
      "\n"
     ]
    },
    {
     "name": "stderr",
     "output_type": "stream",
     "text": [
      "                                                                                \r"
     ]
    }
   ],
   "source": [
    "# 'artist_popularity' is a rank out of 100. Write a user defined function that will divide each popularity value by 100. Rename the column 'popularity_percent'.\n",
    "from pyspark.sql.functions import udf\n",
    "\n",
    "percent = udf(lambda x: x/100)\n",
    "\n",
    "spark_df = spark_df.withColumn('popularity_percent', percent('artist_popularity')).show(10)"
   ]
  },
  {
   "cell_type": "markdown",
   "metadata": {},
   "source": [
    "## Extracting Information"
   ]
  },
  {
   "cell_type": "code",
   "execution_count": 44,
   "metadata": {},
   "outputs": [
    {
     "name": "stdout",
     "output_type": "stream",
     "text": [
      "+-----+-----------------+---------+--------------------+--------------------+--------------------+--------------------+---------------+------+\n",
      "|index|artist_popularity|followers|              genres|                  id|                name|            track_id|track_name_prev|  type|\n",
      "+-----+-----------------+---------+--------------------+--------------------+--------------------+--------------------+---------------+------+\n",
      "|39126|               94| 14130233|['glam rock', 'ro...|1dfeR4HaWDbWqFHLk...|               Queen|5oidljiMjeJTWUGZ4...|       track_12|artist|\n",
      "|48194|               72|  1727917|['alternative met...|4pejUc4iciQfgdX6O...|Queens of the Sto...|763LDHO3wYOI7GzXS...|       track_56|artist|\n",
      "|28174|               70|   798509|['deep pop r&b', ...|3nViOFa3kZW8OMSNO...|         Queen Naija|3UhRsQVrELOATEiY7...|        track_4|artist|\n",
      "|42685|               64|   672669|['latin', 'latin ...|6p2442ymrT9lZEuCZ...|           Ivy Queen|7mY1dIaY9vY6Jrlrj...|       track_41|artist|\n",
      "|51194|               66|   357997|['art pop', 'metr...|04vj3iPUiVh5melWr...|Christine and the...|2nLlsu0gbJxFEEuhX...|       track_10|artist|\n",
      "+-----+-----------------+---------+--------------------+--------------------+--------------------+--------------------+---------------+------+\n",
      "only showing top 5 rows\n",
      "\n"
     ]
    }
   ],
   "source": [
    "# Show only the values in the DataFrame that have 'Queen' in the name\n",
    "\n",
    "spark_df.filter(spark_df.name.contains('Queen')).show(5)\n",
    "\n",
    "spark_df.createOrReplaceTempView('spotify')\n",
    "spark.sql(\"SELECT * FROM spotify WHERE name LIKE '%Queen%'\").show(5)\n"
   ]
  },
  {
   "cell_type": "code",
   "execution_count": 50,
   "metadata": {},
   "outputs": [
    {
     "name": "stdout",
     "output_type": "stream",
     "text": [
      "+-----------------+----------------------+\n",
      "|artist_popularity|sum(artist_popularity)|\n",
      "+-----------------+----------------------+\n",
      "|               31|                 36053|\n",
      "|               85|                  1530|\n",
      "|               65|                 19110|\n",
      "|               53|                 37895|\n",
      "|               78|                  3822|\n",
      "|               34|                 41956|\n",
      "|               81|                  2511|\n",
      "|               28|                 30212|\n",
      "|               76|                  5092|\n",
      "|               26|                 29562|\n",
      "+-----------------+----------------------+\n",
      "only showing top 10 rows\n",
      "\n"
     ]
    }
   ],
   "source": [
    "# Group the data by artist popularity, and show the count for each group.\n",
    "\n",
    "spark_df.groupBy('artist_popularity').sum('artist_popularity').show(10)"
   ]
  },
  {
   "cell_type": "code",
   "execution_count": 52,
   "metadata": {},
   "outputs": [
    {
     "name": "stderr",
     "output_type": "stream",
     "text": [
      "                                                                                \r"
     ]
    }
   ],
   "source": [
    "# save the DataFrame as a Parquet file in the /data directory.\n",
    "\n",
    "spark_df.write.parquet(\"./data/spotify_artists.parquet\")"
   ]
  }
 ],
 "metadata": {
  "kernelspec": {
   "display_name": "Python 3.7.13 ('venv': venv)",
   "language": "python",
   "name": "python3"
  },
  "language_info": {
   "codemirror_mode": {
    "name": "ipython",
    "version": 3
   },
   "file_extension": ".py",
   "mimetype": "text/x-python",
   "name": "python",
   "nbconvert_exporter": "python",
   "pygments_lexer": "ipython3",
   "version": "3.7.13"
  },
  "orig_nbformat": 4,
  "vscode": {
   "interpreter": {
    "hash": "5780a838642836ed964e1890af3cce21644e57d03617de68c1eee757937c6592"
   }
  }
 },
 "nbformat": 4,
 "nbformat_minor": 2
}
