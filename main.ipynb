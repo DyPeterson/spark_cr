{
 "cells": [
  {
   "cell_type": "code",
   "execution_count": null,
   "metadata": {},
   "outputs": [],
   "source": [
    "from pyspark.sql import SparkSession\n",
    "spark = SparkSession.builder.master('local').getOrCreate()"
   ]
  },
  {
   "cell_type": "code",
   "execution_count": null,
   "metadata": {},
   "outputs": [],
   "source": [
    "spark_df = (spark.read.format(\"csv\").options(header=\"true\").load(\"./data/spotify_artists.csv\"))"
   ]
  },
  {
   "cell_type": "markdown",
   "metadata": {},
   "source": [
    "## Profiling the Data:"
   ]
  },
  {
   "cell_type": "code",
   "execution_count": null,
   "metadata": {},
   "outputs": [],
   "source": [
    "# Show a description (summary) of the Spark DataFrame.\n",
    "spark_df.describe"
   ]
  },
  {
   "cell_type": "code",
   "execution_count": null,
   "metadata": {},
   "outputs": [],
   "source": [
    "# Print the schema of the DataFrame.\n",
    "spark_df.printSchema()"
   ]
  },
  {
   "cell_type": "code",
   "execution_count": null,
   "metadata": {},
   "outputs": [],
   "source": [
    "# Select and show just the first 10 values in the 'name' and 'genres' columns.\n",
    "spark_df.select(spark_df.name, spark_df.genres).show(10)"
   ]
  },
  {
   "cell_type": "markdown",
   "metadata": {},
   "source": [
    "## Cleaning the Data:"
   ]
  },
  {
   "cell_type": "code",
   "execution_count": null,
   "metadata": {},
   "outputs": [],
   "source": [
    "# Where the genre is an empty list, replace it with ['elevator music']\n",
    "from pyspark.sql.functions import regexp_replace\n",
    "spark_df.where(spark_df.genres == \"[]\").show(5)\n",
    "spark_df = spark_df.withColumn('genres', regexp_replace('genres', r\"\\[\\]\", \"['elevator music']\"))\n",
    "spark_df.where(spark_df.genres == \"['elevator music']\").show(5)\n"
   ]
  },
  {
   "cell_type": "code",
   "execution_count": null,
   "metadata": {},
   "outputs": [],
   "source": [
    "# For the columns 'artist_popularity' and 'followers', cast the data type as integers.\n",
    "from pyspark.sql.types import IntegerType\n",
    "\n",
    "spark_df = spark_df.withColumn('artist_popularity', spark_df['artist_popularity'].cast(IntegerType()))\n",
    "spark_df = spark_df.withColumn('followers', spark_df['followers'].cast(IntegerType()))\n",
    "spark_df.select('artist_popularity', 'followers').printSchema()"
   ]
  },
  {
   "cell_type": "code",
   "execution_count": null,
   "metadata": {},
   "outputs": [],
   "source": [
    "# Sort the data in descending order by number of followers.\n",
    "\n",
    "spark_df = spark_df.orderBy('followers', ascending=False)\n",
    "spark_df.show(10)"
   ]
  },
  {
   "cell_type": "code",
   "execution_count": null,
   "metadata": {},
   "outputs": [],
   "source": [
    "# 'artist_popularity' is a rank out of 100. Write a user defined function that will divide each popularity value by 100. Rename the column 'popularity_percent'.\n",
    "from pyspark.sql.functions import udf\n",
    "\n",
    "percent = udf(lambda x: x/100)\n",
    "\n",
    "spark_df = spark_df.withColumn('popularity_percent', percent('artist_popularity')).show(10)"
   ]
  },
  {
   "cell_type": "markdown",
   "metadata": {},
   "source": [
    "## Extracting Information"
   ]
  },
  {
   "cell_type": "code",
   "execution_count": null,
   "metadata": {},
   "outputs": [],
   "source": [
    "# Show only the values in the DataFrame that have 'Queen' in the name\n",
    "\n",
    "spark_df.filter(spark_df.name.contains('Queen')).show(5)\n",
    "\n",
    "spark_df.createOrReplaceTempView('spotify')\n",
    "spark.sql(\"SELECT * FROM spotify WHERE name LIKE '%Queen%'\").show(5)\n"
   ]
  },
  {
   "cell_type": "code",
   "execution_count": null,
   "metadata": {},
   "outputs": [],
   "source": [
    "# Group the data by artist popularity, and show the count for each group.\n",
    "\n",
    "spark_df.groupBy('artist_popularity').sum('artist_popularity').show(10)"
   ]
  },
  {
   "cell_type": "code",
   "execution_count": null,
   "metadata": {},
   "outputs": [],
   "source": [
    "# save the DataFrame as a Parquet file in the /data directory.\n",
    "\n",
    "spark_df.write.parquet(\"./data/spotify_artists.parquet\")"
   ]
  }
 ],
 "metadata": {
  "kernelspec": {
   "display_name": "Python 3.7.13 ('venv': venv)",
   "language": "python",
   "name": "python3"
  },
  "language_info": {
   "codemirror_mode": {
    "name": "ipython",
    "version": 3
   },
   "file_extension": ".py",
   "mimetype": "text/x-python",
   "name": "python",
   "nbconvert_exporter": "python",
   "pygments_lexer": "ipython3",
   "version": "3.7.13"
  },
  "orig_nbformat": 4,
  "vscode": {
   "interpreter": {
    "hash": "5780a838642836ed964e1890af3cce21644e57d03617de68c1eee757937c6592"
   }
  }
 },
 "nbformat": 4,
 "nbformat_minor": 2
}
